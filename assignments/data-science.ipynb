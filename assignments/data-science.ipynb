{
  "cells": [
    {
      "cell_type": "code",
      "execution_count": null,
      "metadata": {
        "id": "pMcombRZhogj"
      },
      "outputs": [],
      "source": [
        "# DATA SCIENCE - PANDAS TASK - Semanur Bilada\n",
        "# Sub Task 1\n",
        "import seaborn as sns\n",
        "\n",
        "titanic_data = sns.load_dataset('titanic')"
      ]
    },
    {
      "cell_type": "code",
      "execution_count": 40,
      "metadata": {
        "colab": {
          "base_uri": "https://localhost:8080/"
        },
        "id": "YkK8Mwanhxiw",
        "outputId": "605fe38c-f891-48a6-a379-4d38c6c840b8"
      },
      "outputs": [
        {
          "name": "stdout",
          "output_type": "stream",
          "text": [
            "Number of passengers as gender:\n",
            "\n",
            " male      577\n",
            "female    314\n",
            "Name: sex, dtype: int64\n"
          ]
        }
      ],
      "source": [
        "# Sub Task 2\n",
        "gender_counts = titanic_data['sex'].value_counts()\n",
        "\n",
        "print(\"Number of passengers as gender:\\n\\n\", gender_counts)"
      ]
    },
    {
      "cell_type": "code",
      "execution_count": 41,
      "metadata": {
        "colab": {
          "base_uri": "https://localhost:8080/"
        },
        "id": "q6v28MQ2iBCI",
        "outputId": "bed468ae-9699-4b81-af94-bb19e94267ec"
      },
      "outputs": [
        {
          "name": "stdout",
          "output_type": "stream",
          "text": [
            "Number of unique values for each column:\n",
            "\n",
            " survived         2\n",
            "pclass           3\n",
            "sex              2\n",
            "age             88\n",
            "sibsp            7\n",
            "parch            7\n",
            "fare           248\n",
            "embarked         3\n",
            "class            3\n",
            "who              3\n",
            "adult_male       2\n",
            "deck             7\n",
            "embark_town      3\n",
            "alive            2\n",
            "alone            2\n",
            "dtype: int64\n"
          ]
        }
      ],
      "source": [
        "# Sub Task 3\n",
        "unique_values = titanic_data.nunique()\n",
        "\n",
        "print(\"Number of unique values for each column:\\n\\n\", unique_values)"
      ]
    },
    {
      "cell_type": "code",
      "execution_count": 42,
      "metadata": {
        "colab": {
          "base_uri": "https://localhost:8080/"
        },
        "id": "3yuOeGxDkkYP",
        "outputId": "271d3c82-6920-4382-bcc5-29ffaccde79b"
      },
      "outputs": [
        {
          "name": "stdout",
          "output_type": "stream",
          "text": [
            "Number of unique values of 'class' variable: 3\n"
          ]
        }
      ],
      "source": [
        "# Sub Task 4\n",
        "class_unique_values = titanic_data['class'].nunique()\n",
        "\n",
        "print(\"Number of unique values of 'class' variable:\", class_unique_values)"
      ]
    },
    {
      "cell_type": "code",
      "execution_count": 43,
      "metadata": {
        "colab": {
          "base_uri": "https://localhost:8080/"
        },
        "id": "2wFmqVuvlSn5",
        "outputId": "e258068e-ad2d-4e73-c1ef-d63eb82b3397"
      },
      "outputs": [
        {
          "name": "stdout",
          "output_type": "stream",
          "text": [
            "Number of unique values of 'pclass' variable: 3\n",
            "Number of unique values of 'parch' variable: 7\n"
          ]
        }
      ],
      "source": [
        "# Sub Task 5\n",
        "pclass_unique_values = titanic_data['pclass'].nunique()\n",
        "print(\"Number of unique values of 'pclass' variable:\", pclass_unique_values)\n",
        "\n",
        "parch_unique_values = titanic_data['parch'].nunique()\n",
        "print(\"Number of unique values of 'parch' variable:\", parch_unique_values)"
      ]
    },
    {
      "cell_type": "code",
      "execution_count": 44,
      "metadata": {
        "colab": {
          "base_uri": "https://localhost:8080/"
        },
        "id": "SXp8Jf9DltI7",
        "outputId": "4b0bc2b8-cc67-43c9-8e3e-11201c6c5c7a"
      },
      "outputs": [
        {
          "name": "stdout",
          "output_type": "stream",
          "text": [
            "Type of 'embarked' variable: category\n"
          ]
        }
      ],
      "source": [
        "# Sub Task 6\n",
        "titanic_data['embarked'] = titanic_data['embarked'].astype('category')\n",
        "\n",
        "print(\"Type of 'embarked' variable:\", titanic_data['embarked'].dtype)"
      ]
    },
    {
      "cell_type": "code",
      "execution_count": 45,
      "metadata": {
        "colab": {
          "base_uri": "https://localhost:8080/"
        },
        "id": "v5b4E0F9mLlF",
        "outputId": "6fd78627-fbd6-457a-d9e5-23841d54338b"
      },
      "outputs": [
        {
          "name": "stdout",
          "output_type": "stream",
          "text": [
            "Informations of Passengers with 'embarked' variable value 'C':\n",
            "\n",
            "      survived  pclass     sex   age  sibsp  parch     fare embarked   class  \\\n",
            "1           1       1  female  38.0      1      0  71.2833        C   First   \n",
            "9           1       2  female  14.0      1      0  30.0708        C  Second   \n",
            "19          1       3  female   NaN      0      0   7.2250        C   Third   \n",
            "26          0       3    male   NaN      0      0   7.2250        C   Third   \n",
            "30          0       1    male  40.0      0      0  27.7208        C   First   \n",
            "..        ...     ...     ...   ...    ...    ...      ...      ...     ...   \n",
            "866         1       2  female  27.0      1      0  13.8583        C  Second   \n",
            "874         1       2  female  28.0      1      0  24.0000        C  Second   \n",
            "875         1       3  female  15.0      0      0   7.2250        C   Third   \n",
            "879         1       1  female  56.0      0      1  83.1583        C   First   \n",
            "889         1       1    male  26.0      0      0  30.0000        C   First   \n",
            "\n",
            "       who  adult_male deck embark_town alive  alone  \n",
            "1    woman       False    C   Cherbourg   yes  False  \n",
            "9    child       False  NaN   Cherbourg   yes  False  \n",
            "19   woman       False  NaN   Cherbourg   yes   True  \n",
            "26     man        True  NaN   Cherbourg    no   True  \n",
            "30     man        True  NaN   Cherbourg    no   True  \n",
            "..     ...         ...  ...         ...   ...    ...  \n",
            "866  woman       False  NaN   Cherbourg   yes  False  \n",
            "874  woman       False  NaN   Cherbourg   yes  False  \n",
            "875  child       False  NaN   Cherbourg   yes   True  \n",
            "879  woman       False    C   Cherbourg   yes  False  \n",
            "889    man        True    C   Cherbourg   yes   True  \n",
            "\n",
            "[168 rows x 15 columns]\n"
          ]
        }
      ],
      "source": [
        "# Sub Task 7\n",
        "embarked_C_passengers = titanic_data[titanic_data['embarked'] == 'C']\n",
        "\n",
        "print(\"Informations of Passengers with 'embarked' variable value 'C':\\n\\n\", embarked_C_passengers)"
      ]
    },
    {
      "cell_type": "code",
      "execution_count": 46,
      "metadata": {
        "colab": {
          "base_uri": "https://localhost:8080/"
        },
        "id": "ulEYl9urnZkd",
        "outputId": "2de9de1e-495b-4179-cb53-5e1c93e5b020"
      },
      "outputs": [
        {
          "name": "stdout",
          "output_type": "stream",
          "text": [
            "Informations of Passengers with 'embarked' variable value NOT 'S':\n",
            "\n",
            "      survived  pclass     sex   age  sibsp  parch     fare embarked   class  \\\n",
            "1           1       1  female  38.0      1      0  71.2833        C   First   \n",
            "5           0       3    male   NaN      0      0   8.4583        Q   Third   \n",
            "9           1       2  female  14.0      1      0  30.0708        C  Second   \n",
            "16          0       3    male   2.0      4      1  29.1250        Q   Third   \n",
            "19          1       3  female   NaN      0      0   7.2250        C   Third   \n",
            "..        ...     ...     ...   ...    ...    ...      ...      ...     ...   \n",
            "875         1       3  female  15.0      0      0   7.2250        C   Third   \n",
            "879         1       1  female  56.0      0      1  83.1583        C   First   \n",
            "885         0       3  female  39.0      0      5  29.1250        Q   Third   \n",
            "889         1       1    male  26.0      0      0  30.0000        C   First   \n",
            "890         0       3    male  32.0      0      0   7.7500        Q   Third   \n",
            "\n",
            "       who  adult_male deck embark_town alive  alone  \n",
            "1    woman       False    C   Cherbourg   yes  False  \n",
            "5      man        True  NaN  Queenstown    no   True  \n",
            "9    child       False  NaN   Cherbourg   yes  False  \n",
            "16   child       False  NaN  Queenstown    no  False  \n",
            "19   woman       False  NaN   Cherbourg   yes   True  \n",
            "..     ...         ...  ...         ...   ...    ...  \n",
            "875  child       False  NaN   Cherbourg   yes   True  \n",
            "879  woman       False    C   Cherbourg   yes  False  \n",
            "885  woman       False  NaN  Queenstown    no  False  \n",
            "889    man        True    C   Cherbourg   yes   True  \n",
            "890    man        True  NaN  Queenstown    no   True  \n",
            "\n",
            "[247 rows x 15 columns]\n"
          ]
        }
      ],
      "source": [
        "# Sub Task 8\n",
        "embarked_not_S_passengers = titanic_data[titanic_data['embarked'] != 'S']\n",
        "\n",
        "print(\"Informations of Passengers with 'embarked' variable value NOT 'S':\\n\\n\", embarked_not_S_passengers)"
      ]
    },
    {
      "cell_type": "code",
      "execution_count": 47,
      "metadata": {
        "colab": {
          "base_uri": "https://localhost:8080/"
        },
        "id": "U2ThRSQSoWU-",
        "outputId": "137c7251-2bf0-4183-f2ec-ee843cc95737"
      },
      "outputs": [
        {
          "name": "stdout",
          "output_type": "stream",
          "text": [
            "Information of Passengers age under 30 and female:\n",
            "\n",
            "      survived  pclass     sex   age  sibsp  parch     fare embarked   class  \\\n",
            "2           1       3  female  26.0      0      0   7.9250        S   Third   \n",
            "8           1       3  female  27.0      0      2  11.1333        S   Third   \n",
            "9           1       2  female  14.0      1      0  30.0708        C  Second   \n",
            "10          1       3  female   4.0      1      1  16.7000        S   Third   \n",
            "14          0       3  female  14.0      0      0   7.8542        S   Third   \n",
            "..        ...     ...     ...   ...    ...    ...      ...      ...     ...   \n",
            "874         1       2  female  28.0      1      0  24.0000        C  Second   \n",
            "875         1       3  female  15.0      0      0   7.2250        C   Third   \n",
            "880         1       2  female  25.0      0      1  26.0000        S  Second   \n",
            "882         0       3  female  22.0      0      0  10.5167        S   Third   \n",
            "887         1       1  female  19.0      0      0  30.0000        S   First   \n",
            "\n",
            "       who  adult_male deck  embark_town alive  alone  \n",
            "2    woman       False  NaN  Southampton   yes   True  \n",
            "8    woman       False  NaN  Southampton   yes  False  \n",
            "9    child       False  NaN    Cherbourg   yes  False  \n",
            "10   child       False    G  Southampton   yes  False  \n",
            "14   child       False  NaN  Southampton    no   True  \n",
            "..     ...         ...  ...          ...   ...    ...  \n",
            "874  woman       False  NaN    Cherbourg   yes  False  \n",
            "875  child       False  NaN    Cherbourg   yes   True  \n",
            "880  woman       False  NaN  Southampton   yes  False  \n",
            "882  woman       False  NaN  Southampton    no   True  \n",
            "887  woman       False    B  Southampton   yes   True  \n",
            "\n",
            "[147 rows x 15 columns]\n"
          ]
        }
      ],
      "source": [
        "# Sub Task 9\n",
        "young_female_passengers = titanic_data[(titanic_data['age'] < 30) & (titanic_data['sex'] == 'female')]\n",
        "\n",
        "print(\"Information of Passengers age under 30 and female:\\n\\n\", young_female_passengers)"
      ]
    },
    {
      "cell_type": "code",
      "execution_count": 48,
      "metadata": {
        "colab": {
          "base_uri": "https://localhost:8080/"
        },
        "id": "JWUvjbLrphih",
        "outputId": "98952106-0233-41af-81ed-b9d2bc03b673"
      },
      "outputs": [
        {
          "name": "stdout",
          "output_type": "stream",
          "text": [
            "Information of Passengers age over 70 or 'Fare' over 500:\n",
            "\n",
            "      survived  pclass     sex   age  sibsp  parch      fare embarked  class  \\\n",
            "96          0       1    male  71.0      0      0   34.6542        C  First   \n",
            "116         0       3    male  70.5      0      0    7.7500        Q  Third   \n",
            "258         1       1  female  35.0      0      0  512.3292        C  First   \n",
            "493         0       1    male  71.0      0      0   49.5042        C  First   \n",
            "630         1       1    male  80.0      0      0   30.0000        S  First   \n",
            "679         1       1    male  36.0      0      1  512.3292        C  First   \n",
            "737         1       1    male  35.0      0      0  512.3292        C  First   \n",
            "851         0       3    male  74.0      0      0    7.7750        S  Third   \n",
            "\n",
            "       who  adult_male deck  embark_town alive  alone  \n",
            "96     man        True    A    Cherbourg    no   True  \n",
            "116    man        True  NaN   Queenstown    no   True  \n",
            "258  woman       False  NaN    Cherbourg   yes   True  \n",
            "493    man        True  NaN    Cherbourg    no   True  \n",
            "630    man        True    A  Southampton   yes   True  \n",
            "679    man        True    B    Cherbourg   yes  False  \n",
            "737    man        True    B    Cherbourg   yes   True  \n",
            "851    man        True  NaN  Southampton    no   True  \n"
          ]
        }
      ],
      "source": [
        "# Sub Task 10\n",
        "fare_age_filtered_passengers = titanic_data[(titanic_data['fare'] > 500) | (titanic_data['age'] > 70)]\n",
        "\n",
        "print(\"Information of Passengers age over 70 or 'Fare' over 500:\\n\\n\", fare_age_filtered_passengers)"
      ]
    },
    {
      "cell_type": "code",
      "execution_count": 49,
      "metadata": {
        "colab": {
          "base_uri": "https://localhost:8080/"
        },
        "id": "BrC0PCWcuV73",
        "outputId": "64e354e6-e67e-4d4f-cb72-12692dd4eebb"
      },
      "outputs": [
        {
          "name": "stdout",
          "output_type": "stream",
          "text": [
            "Sum of null values for each variable:\n",
            "\n",
            " survived         0\n",
            "pclass           0\n",
            "sex              0\n",
            "age            177\n",
            "sibsp            0\n",
            "parch            0\n",
            "fare             0\n",
            "embarked         2\n",
            "class            0\n",
            "who              0\n",
            "adult_male       0\n",
            "deck           688\n",
            "embark_town      2\n",
            "alive            0\n",
            "alone            0\n",
            "dtype: int64\n"
          ]
        }
      ],
      "source": [
        "# Sub Task 11\n",
        "missing_values_sum = titanic_data.isnull().sum()\n",
        "\n",
        "print(\"Sum of null values for each variable:\\n\\n\", missing_values_sum)"
      ]
    },
    {
      "cell_type": "code",
      "execution_count": 64,
      "metadata": {
        "colab": {
          "base_uri": "https://localhost:8080/",
          "height": 381
        },
        "id": "XLPaA3rsuvVW",
        "outputId": "1b0cc368-e2c4-4528-ef23-18a319fc7c91"
      },
      "outputs": [
        {
          "ename": "KeyError",
          "evalue": "ignored",
          "output_type": "error",
          "traceback": [
            "\u001b[0;31m---------------------------------------------------------------------------\u001b[0m",
            "\u001b[0;31mKeyError\u001b[0m                                  Traceback (most recent call last)",
            "\u001b[0;32m<ipython-input-64-b3da27b79bd5>\u001b[0m in \u001b[0;36m<cell line: 2>\u001b[0;34m()\u001b[0m\n\u001b[1;32m      1\u001b[0m \u001b[0;31m# Sub Task 12\u001b[0m\u001b[0;34m\u001b[0m\u001b[0;34m\u001b[0m\u001b[0m\n\u001b[0;32m----> 2\u001b[0;31m \u001b[0mtitanic_data\u001b[0m\u001b[0;34m.\u001b[0m\u001b[0mdrop\u001b[0m\u001b[0;34m(\u001b[0m\u001b[0;34m'who'\u001b[0m\u001b[0;34m,\u001b[0m \u001b[0maxis\u001b[0m\u001b[0;34m=\u001b[0m\u001b[0;36m1\u001b[0m\u001b[0;34m,\u001b[0m \u001b[0minplace\u001b[0m\u001b[0;34m=\u001b[0m\u001b[0;32mTrue\u001b[0m\u001b[0;34m)\u001b[0m\u001b[0;34m\u001b[0m\u001b[0;34m\u001b[0m\u001b[0m\n\u001b[0m\u001b[1;32m      3\u001b[0m \u001b[0;34m\u001b[0m\u001b[0m\n\u001b[1;32m      4\u001b[0m \u001b[0;31m#Note: It errors cause value of who is dropped (not found)\u001b[0m\u001b[0;34m\u001b[0m\u001b[0;34m\u001b[0m\u001b[0m\n",
            "\u001b[0;32m/usr/local/lib/python3.10/dist-packages/pandas/util/_decorators.py\u001b[0m in \u001b[0;36mwrapper\u001b[0;34m(*args, **kwargs)\u001b[0m\n\u001b[1;32m    329\u001b[0m                     \u001b[0mstacklevel\u001b[0m\u001b[0;34m=\u001b[0m\u001b[0mfind_stack_level\u001b[0m\u001b[0;34m(\u001b[0m\u001b[0;34m)\u001b[0m\u001b[0;34m,\u001b[0m\u001b[0;34m\u001b[0m\u001b[0;34m\u001b[0m\u001b[0m\n\u001b[1;32m    330\u001b[0m                 )\n\u001b[0;32m--> 331\u001b[0;31m             \u001b[0;32mreturn\u001b[0m \u001b[0mfunc\u001b[0m\u001b[0;34m(\u001b[0m\u001b[0;34m*\u001b[0m\u001b[0margs\u001b[0m\u001b[0;34m,\u001b[0m \u001b[0;34m**\u001b[0m\u001b[0mkwargs\u001b[0m\u001b[0;34m)\u001b[0m\u001b[0;34m\u001b[0m\u001b[0;34m\u001b[0m\u001b[0m\n\u001b[0m\u001b[1;32m    332\u001b[0m \u001b[0;34m\u001b[0m\u001b[0m\n\u001b[1;32m    333\u001b[0m         \u001b[0;31m# error: \"Callable[[VarArg(Any), KwArg(Any)], Any]\" has no\u001b[0m\u001b[0;34m\u001b[0m\u001b[0;34m\u001b[0m\u001b[0m\n",
            "\u001b[0;32m/usr/local/lib/python3.10/dist-packages/pandas/core/frame.py\u001b[0m in \u001b[0;36mdrop\u001b[0;34m(self, labels, axis, index, columns, level, inplace, errors)\u001b[0m\n\u001b[1;32m   5397\u001b[0m                 \u001b[0mweight\u001b[0m  \u001b[0;36m1.0\u001b[0m     \u001b[0;36m0.8\u001b[0m\u001b[0;34m\u001b[0m\u001b[0;34m\u001b[0m\u001b[0m\n\u001b[1;32m   5398\u001b[0m         \"\"\"\n\u001b[0;32m-> 5399\u001b[0;31m         return super().drop(\n\u001b[0m\u001b[1;32m   5400\u001b[0m             \u001b[0mlabels\u001b[0m\u001b[0;34m=\u001b[0m\u001b[0mlabels\u001b[0m\u001b[0;34m,\u001b[0m\u001b[0;34m\u001b[0m\u001b[0;34m\u001b[0m\u001b[0m\n\u001b[1;32m   5401\u001b[0m             \u001b[0maxis\u001b[0m\u001b[0;34m=\u001b[0m\u001b[0maxis\u001b[0m\u001b[0;34m,\u001b[0m\u001b[0;34m\u001b[0m\u001b[0;34m\u001b[0m\u001b[0m\n",
            "\u001b[0;32m/usr/local/lib/python3.10/dist-packages/pandas/util/_decorators.py\u001b[0m in \u001b[0;36mwrapper\u001b[0;34m(*args, **kwargs)\u001b[0m\n\u001b[1;32m    329\u001b[0m                     \u001b[0mstacklevel\u001b[0m\u001b[0;34m=\u001b[0m\u001b[0mfind_stack_level\u001b[0m\u001b[0;34m(\u001b[0m\u001b[0;34m)\u001b[0m\u001b[0;34m,\u001b[0m\u001b[0;34m\u001b[0m\u001b[0;34m\u001b[0m\u001b[0m\n\u001b[1;32m    330\u001b[0m                 )\n\u001b[0;32m--> 331\u001b[0;31m             \u001b[0;32mreturn\u001b[0m \u001b[0mfunc\u001b[0m\u001b[0;34m(\u001b[0m\u001b[0;34m*\u001b[0m\u001b[0margs\u001b[0m\u001b[0;34m,\u001b[0m \u001b[0;34m**\u001b[0m\u001b[0mkwargs\u001b[0m\u001b[0;34m)\u001b[0m\u001b[0;34m\u001b[0m\u001b[0;34m\u001b[0m\u001b[0m\n\u001b[0m\u001b[1;32m    332\u001b[0m \u001b[0;34m\u001b[0m\u001b[0m\n\u001b[1;32m    333\u001b[0m         \u001b[0;31m# error: \"Callable[[VarArg(Any), KwArg(Any)], Any]\" has no\u001b[0m\u001b[0;34m\u001b[0m\u001b[0;34m\u001b[0m\u001b[0m\n",
            "\u001b[0;32m/usr/local/lib/python3.10/dist-packages/pandas/core/generic.py\u001b[0m in \u001b[0;36mdrop\u001b[0;34m(self, labels, axis, index, columns, level, inplace, errors)\u001b[0m\n\u001b[1;32m   4503\u001b[0m         \u001b[0;32mfor\u001b[0m \u001b[0maxis\u001b[0m\u001b[0;34m,\u001b[0m \u001b[0mlabels\u001b[0m \u001b[0;32min\u001b[0m \u001b[0maxes\u001b[0m\u001b[0;34m.\u001b[0m\u001b[0mitems\u001b[0m\u001b[0;34m(\u001b[0m\u001b[0;34m)\u001b[0m\u001b[0;34m:\u001b[0m\u001b[0;34m\u001b[0m\u001b[0;34m\u001b[0m\u001b[0m\n\u001b[1;32m   4504\u001b[0m             \u001b[0;32mif\u001b[0m \u001b[0mlabels\u001b[0m \u001b[0;32mis\u001b[0m \u001b[0;32mnot\u001b[0m \u001b[0;32mNone\u001b[0m\u001b[0;34m:\u001b[0m\u001b[0;34m\u001b[0m\u001b[0;34m\u001b[0m\u001b[0m\n\u001b[0;32m-> 4505\u001b[0;31m                 \u001b[0mobj\u001b[0m \u001b[0;34m=\u001b[0m \u001b[0mobj\u001b[0m\u001b[0;34m.\u001b[0m\u001b[0m_drop_axis\u001b[0m\u001b[0;34m(\u001b[0m\u001b[0mlabels\u001b[0m\u001b[0;34m,\u001b[0m \u001b[0maxis\u001b[0m\u001b[0;34m,\u001b[0m \u001b[0mlevel\u001b[0m\u001b[0;34m=\u001b[0m\u001b[0mlevel\u001b[0m\u001b[0;34m,\u001b[0m \u001b[0merrors\u001b[0m\u001b[0;34m=\u001b[0m\u001b[0merrors\u001b[0m\u001b[0;34m)\u001b[0m\u001b[0;34m\u001b[0m\u001b[0;34m\u001b[0m\u001b[0m\n\u001b[0m\u001b[1;32m   4506\u001b[0m \u001b[0;34m\u001b[0m\u001b[0m\n\u001b[1;32m   4507\u001b[0m         \u001b[0;32mif\u001b[0m \u001b[0minplace\u001b[0m\u001b[0;34m:\u001b[0m\u001b[0;34m\u001b[0m\u001b[0;34m\u001b[0m\u001b[0m\n",
            "\u001b[0;32m/usr/local/lib/python3.10/dist-packages/pandas/core/generic.py\u001b[0m in \u001b[0;36m_drop_axis\u001b[0;34m(self, labels, axis, level, errors, only_slice)\u001b[0m\n\u001b[1;32m   4544\u001b[0m                 \u001b[0mnew_axis\u001b[0m \u001b[0;34m=\u001b[0m \u001b[0maxis\u001b[0m\u001b[0;34m.\u001b[0m\u001b[0mdrop\u001b[0m\u001b[0;34m(\u001b[0m\u001b[0mlabels\u001b[0m\u001b[0;34m,\u001b[0m \u001b[0mlevel\u001b[0m\u001b[0;34m=\u001b[0m\u001b[0mlevel\u001b[0m\u001b[0;34m,\u001b[0m \u001b[0merrors\u001b[0m\u001b[0;34m=\u001b[0m\u001b[0merrors\u001b[0m\u001b[0;34m)\u001b[0m\u001b[0;34m\u001b[0m\u001b[0;34m\u001b[0m\u001b[0m\n\u001b[1;32m   4545\u001b[0m             \u001b[0;32melse\u001b[0m\u001b[0;34m:\u001b[0m\u001b[0;34m\u001b[0m\u001b[0;34m\u001b[0m\u001b[0m\n\u001b[0;32m-> 4546\u001b[0;31m                 \u001b[0mnew_axis\u001b[0m \u001b[0;34m=\u001b[0m \u001b[0maxis\u001b[0m\u001b[0;34m.\u001b[0m\u001b[0mdrop\u001b[0m\u001b[0;34m(\u001b[0m\u001b[0mlabels\u001b[0m\u001b[0;34m,\u001b[0m \u001b[0merrors\u001b[0m\u001b[0;34m=\u001b[0m\u001b[0merrors\u001b[0m\u001b[0;34m)\u001b[0m\u001b[0;34m\u001b[0m\u001b[0;34m\u001b[0m\u001b[0m\n\u001b[0m\u001b[1;32m   4547\u001b[0m             \u001b[0mindexer\u001b[0m \u001b[0;34m=\u001b[0m \u001b[0maxis\u001b[0m\u001b[0;34m.\u001b[0m\u001b[0mget_indexer\u001b[0m\u001b[0;34m(\u001b[0m\u001b[0mnew_axis\u001b[0m\u001b[0;34m)\u001b[0m\u001b[0;34m\u001b[0m\u001b[0;34m\u001b[0m\u001b[0m\n\u001b[1;32m   4548\u001b[0m \u001b[0;34m\u001b[0m\u001b[0m\n",
            "\u001b[0;32m/usr/local/lib/python3.10/dist-packages/pandas/core/indexes/base.py\u001b[0m in \u001b[0;36mdrop\u001b[0;34m(self, labels, errors)\u001b[0m\n\u001b[1;32m   6932\u001b[0m         \u001b[0;32mif\u001b[0m \u001b[0mmask\u001b[0m\u001b[0;34m.\u001b[0m\u001b[0many\u001b[0m\u001b[0;34m(\u001b[0m\u001b[0;34m)\u001b[0m\u001b[0;34m:\u001b[0m\u001b[0;34m\u001b[0m\u001b[0;34m\u001b[0m\u001b[0m\n\u001b[1;32m   6933\u001b[0m             \u001b[0;32mif\u001b[0m \u001b[0merrors\u001b[0m \u001b[0;34m!=\u001b[0m \u001b[0;34m\"ignore\"\u001b[0m\u001b[0;34m:\u001b[0m\u001b[0;34m\u001b[0m\u001b[0;34m\u001b[0m\u001b[0m\n\u001b[0;32m-> 6934\u001b[0;31m                 \u001b[0;32mraise\u001b[0m \u001b[0mKeyError\u001b[0m\u001b[0;34m(\u001b[0m\u001b[0;34mf\"{list(labels[mask])} not found in axis\"\u001b[0m\u001b[0;34m)\u001b[0m\u001b[0;34m\u001b[0m\u001b[0;34m\u001b[0m\u001b[0m\n\u001b[0m\u001b[1;32m   6935\u001b[0m             \u001b[0mindexer\u001b[0m \u001b[0;34m=\u001b[0m \u001b[0mindexer\u001b[0m\u001b[0;34m[\u001b[0m\u001b[0;34m~\u001b[0m\u001b[0mmask\u001b[0m\u001b[0;34m]\u001b[0m\u001b[0;34m\u001b[0m\u001b[0;34m\u001b[0m\u001b[0m\n\u001b[1;32m   6936\u001b[0m         \u001b[0;32mreturn\u001b[0m \u001b[0mself\u001b[0m\u001b[0;34m.\u001b[0m\u001b[0mdelete\u001b[0m\u001b[0;34m(\u001b[0m\u001b[0mindexer\u001b[0m\u001b[0;34m)\u001b[0m\u001b[0;34m\u001b[0m\u001b[0;34m\u001b[0m\u001b[0m\n",
            "\u001b[0;31mKeyError\u001b[0m: \"['who'] not found in axis\""
          ]
        }
      ],
      "source": [
        "# Sub Task 12\n",
        "titanic_data.drop('who', axis=1, inplace=True)\n",
        "\n",
        "#Note: It errors cause value of who is dropped (not found)"
      ]
    },
    {
      "cell_type": "code",
      "execution_count": 65,
      "metadata": {
        "id": "CkEwtcHHu5_I"
      },
      "outputs": [],
      "source": [
        "# Sub Task 13\n",
        "deck_mode = titanic_data['deck'].mode()[0]\n",
        "titanic_data['deck'].fillna(deck_mode, inplace=True)"
      ]
    },
    {
      "cell_type": "code",
      "execution_count": 66,
      "metadata": {
        "id": "xX0Bh4JWviTW"
      },
      "outputs": [],
      "source": [
        "# Sub Task 14\n",
        "age_median = titanic_data['age'].median()\n",
        "titanic_data['age'].fillna(age_median, inplace=True)"
      ]
    },
    {
      "cell_type": "code",
      "execution_count": 68,
      "metadata": {
        "colab": {
          "base_uri": "https://localhost:8080/"
        },
        "id": "2j3v59s8wHbZ",
        "outputId": "fc040ea8-cfec-4efa-ed51-990b09cf4d93"
      },
      "outputs": [
        {
          "name": "stdout",
          "output_type": "stream",
          "text": [
            "Statistics of intersection of pclass and sex variables:\n",
            "\n",
            "                sum  count      mean\n",
            "pclass sex                         \n",
            "1      female   91     94  0.968085\n",
            "       male     45    122  0.368852\n",
            "2      female   70     76  0.921053\n",
            "       male     17    108  0.157407\n",
            "3      female   72    144  0.500000\n",
            "       male     47    347  0.135447\n"
          ]
        }
      ],
      "source": [
        "# Sub Task 15\n",
        "survived_stats = titanic_data.groupby(['pclass', 'sex'])['survived'].agg(['sum', 'count', 'mean'])\n",
        "print(\"Statistics of intersection of pclass and sex variables:\\n\\n\", survived_stats)"
      ]
    },
    {
      "cell_type": "code",
      "execution_count": 70,
      "metadata": {
        "id": "u4mWgIe3wiq4"
      },
      "outputs": [],
      "source": [
        "# Sub Task 16\n",
        "tips = sns.load_dataset('tips')\n",
        "\n",
        "# tips from seaborn library defined"
      ]
    },
    {
      "cell_type": "code",
      "execution_count": 73,
      "metadata": {
        "colab": {
          "base_uri": "https://localhost:8080/"
        },
        "id": "jqf9b_pMwy5H",
        "outputId": "cbbf3ef0-3bba-4176-9516-343516e6eebb"
      },
      "outputs": [
        {
          "name": "stdout",
          "output_type": "stream",
          "text": [
            "total_bill statistics according to time variable categories:\n",
            "\n",
            "             sum   min    max       mean\n",
            "time                                   \n",
            "Lunch   1167.47  7.51  43.11  17.168676\n",
            "Dinner  3660.30  3.07  50.81  20.797159\n"
          ]
        }
      ],
      "source": [
        "# Sub Task 17\n",
        "time_totals = tips.groupby('time')['total_bill'].agg(['sum', 'min', 'max', 'mean'])\n",
        "\n",
        "print(\"total_bill statistics according to time variable categories:\\n\\n\", time_totals)"
      ]
    },
    {
      "cell_type": "code",
      "execution_count": 74,
      "metadata": {
        "colab": {
          "base_uri": "https://localhost:8080/"
        },
        "id": "jltsHjmGxPRi",
        "outputId": "5de57bae-1a69-4776-907c-d3e0d3fe7919"
      },
      "outputs": [
        {
          "name": "stdout",
          "output_type": "stream",
          "text": [
            "total_bill statistics according to days and times:\n",
            "\n",
            "                  sum    min    max       mean\n",
            "day  time                                    \n",
            "Thur Lunch   1077.55   7.51  43.11  17.664754\n",
            "     Dinner    18.78  18.78  18.78  18.780000\n",
            "Fri  Lunch     89.92   8.58  16.27  12.845714\n",
            "     Dinner   235.96   5.75  40.17  19.663333\n",
            "Sat  Lunch      0.00    NaN    NaN        NaN\n",
            "     Dinner  1778.40   3.07  50.81  20.441379\n",
            "Sun  Lunch      0.00    NaN    NaN        NaN\n",
            "     Dinner  1627.16   7.25  48.17  21.410000\n"
          ]
        }
      ],
      "source": [
        "# Sub Task 18\n",
        "day_time_totals = tips.groupby(['day', 'time'])['total_bill'].agg(['sum', 'min', 'max', 'mean'])\n",
        "\n",
        "print(\"total_bill statistics according to days and times:\\n\\n\", day_time_totals)"
      ]
    },
    {
      "cell_type": "code",
      "execution_count": 75,
      "metadata": {
        "colab": {
          "base_uri": "https://localhost:8080/"
        },
        "id": "akgMYEkAxe3c",
        "outputId": "3a709b48-a689-4ecf-cd36-47a3d0841510"
      },
      "outputs": [
        {
          "name": "stdout",
          "output_type": "stream",
          "text": [
            "total_bill and tip statistics according to Lunch time and female customers:\n",
            "\n",
            "      total_bill               tip             \n",
            "            sum min max mean  sum min max mean\n",
            "day                                           \n",
            "Thur        0.0 NaN NaN  NaN  0.0 NaN NaN  NaN\n",
            "Fri         0.0 NaN NaN  NaN  0.0 NaN NaN  NaN\n",
            "Sat         0.0 NaN NaN  NaN  0.0 NaN NaN  NaN\n",
            "Sun         0.0 NaN NaN  NaN  0.0 NaN NaN  NaN\n"
          ]
        }
      ],
      "source": [
        "# Sub Task 19\n",
        "lunch_female_totals = tips[(tips['time'] == 'lunch') & (tips['sex'] == 'Female')].groupby('day')[['total_bill', 'tip']].agg(['sum', 'min', 'max', 'mean'])\n",
        "\n",
        "print(\"total_bill and tip statistics according to Lunch time and female customers:\\n\\n\", lunch_female_totals)"
      ]
    },
    {
      "cell_type": "code",
      "execution_count": 76,
      "metadata": {
        "colab": {
          "base_uri": "https://localhost:8080/"
        },
        "id": "T84L4aWFyEzz",
        "outputId": "d5eef112-aaf0-4eb7-b1af-92faa16b434a"
      },
      "outputs": [
        {
          "name": "stdout",
          "output_type": "stream",
          "text": [
            "Average of Orders with size less than 3 and total_bill greater than 10: 17.184965034965035\n"
          ]
        }
      ],
      "source": [
        "# Sub Task 20\n",
        "\n",
        "filtered_orders = tips.loc[(tips['size'] < 3) & (tips['total_bill'] > 10)]\n",
        "average_filtered_orders = filtered_orders['total_bill'].mean()\n",
        "\n",
        "print(\"Average of Orders with size less than 3 and total_bill greater than 10:\", average_filtered_orders)"
      ]
    },
    {
      "cell_type": "markdown",
      "metadata": {
        "id": "Kdv4N6sPyxR_"
      },
      "source": [
        "[**Semanur Bilada (SB)**](https://github.com/semanurbilada)"
      ]
    }
  ],
  "metadata": {
    "colab": {
      "provenance": []
    },
    "kernelspec": {
      "display_name": "Python 3",
      "name": "python3"
    },
    "language_info": {
      "name": "python"
    }
  },
  "nbformat": 4,
  "nbformat_minor": 0
}
